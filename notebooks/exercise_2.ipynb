{
 "metadata": {
  "kernelspec": {
   "display_name": "Python 3",
   "language": "python",
   "name": "python3"
  },
  "language_info": {
   "codemirror_mode": {
    "name": "ipython",
    "version": 3
   },
   "file_extension": ".py",
   "mimetype": "text/x-python",
   "name": "python",
   "nbconvert_exporter": "python",
   "pygments_lexer": "ipython3",
   "version": "3.5.4"
  },
  "name": "",
  "signature": "sha256:23ded18e0ae66ef5c04bea6852a712a89bc04f27632989896beb11e76fad1cef"
 },
 "nbformat": 3,
 "nbformat_minor": 0,
 "worksheets": [
  {
   "cells": [
    {
     "cell_type": "code",
     "collapsed": true,
     "input": [
      "import numpy as np\n",
      "import tensorflow as tf\n",
      "from matplotlib import pyplot as plt\n",
      "from tensorflow.examples.tutorials.mnist import input_data\n",
      "%matplotlib inline"
     ],
     "language": "python",
     "metadata": {},
     "outputs": [],
     "prompt_number": 1
    },
    {
     "cell_type": "markdown",
     "metadata": {},
     "source": [
      "# Data Loading\n",
      "We first define a function for downloading and loading MNIST. "
     ]
    },
    {
     "cell_type": "code",
     "collapsed": true,
     "input": [
      "mnist = input_data.read_data_sets(train_dir = \"./MNIST_data\", one_hot=True)"
     ],
     "language": "python",
     "metadata": {},
     "outputs": [
      {
       "output_type": "stream",
       "stream": "stdout",
       "text": [
        "Extracting ./MNIST_data/train-images-idx3-ubyte.gz\n",
        "Extracting"
       ]
      },
      {
       "output_type": "stream",
       "stream": "stdout",
       "text": [
        " ./MNIST_data/train-labels-idx1-ubyte.gz\n",
        "Extracting ./MNIST_data/t10k-images-idx3-ubyte.gz\n",
        "Extracting ./MNIST_data/t10k-labels-idx1-ubyte.gz\n"
       ]
      }
     ],
     "prompt_number": 2
    },
    {
     "cell_type": "markdown",
     "metadata": {},
     "source": [
      "# LeNet Implementation\n",
      "Using two convolutional layers followed by relu activation and max pooling "
     ]
    },
    {
     "cell_type": "code",
     "collapsed": true,
     "input": [
      "def predict(x):\n",
      "    \"\"\"predict returns prediction given input.\"\"\"\n",
      "    x_image = tf.reshape(x, [-1, 28, 28, 1])\n",
      "    W_conv1 = weight_variable([3, 3, 1, 16])\n",
      "    b_conv1 = bias_variable([16])\n",
      "    h_conv1 = tf.nn.relu(conv2d(x_image, W_conv1) + b_conv1)\n",
      "\n",
      "    h_pool1 = max_pool_2x2(h_conv1)\n",
      "\n",
      "    W_conv2 = weight_variable([3, 3, 16, 16])\n",
      "    b_conv2 = bias_variable([16])\n",
      "    h_conv2 = tf.nn.relu(conv2d(h_pool1, W_conv2) + b_conv2)\n",
      "\n",
      "    h_pool2 = max_pool_2x2(h_conv2)\n",
      "\n",
      "    W_fc1 = weight_variable([7 * 7 * 16, 128])\n",
      "    b_fc1 = bias_variable([128])\n",
      "\n",
      "    h_pool2_flat = tf.reshape(h_pool2, [-1, 7*7*16])\n",
      "    h_fc1 = tf.nn.relu(tf.matmul(h_pool2_flat, W_fc1) + b_fc1)\n",
      "\n",
      "    W_fc2 = weight_variable([128, 10])\n",
      "    b_fc2 = bias_variable([10])\n",
      "\n",
      "    y_conv = tf.matmul(h_fc1, W_fc2) + b_fc2\n",
      "\n",
      "    return y_conv\n",
      "\n",
      "\n",
      "def conv2d(x, W):\n",
      "  \"\"\"conv2d returns a 2d convolution layer with full stride.\"\"\"\n",
      "  return tf.nn.conv2d(x, W, strides=[1, 1, 1, 1], padding='SAME')\n",
      "\n",
      "\n",
      "def max_pool_2x2(x):\n",
      "  \"\"\"max_pool_2x2 downsamples a feature map by 2X.\"\"\"\n",
      "  return tf.nn.max_pool(x, ksize=[1, 2, 2, 1],\n",
      "                        strides=[1, 2, 2, 1], padding='SAME')\n",
      "\n",
      "\n",
      "def weight_variable(shape):\n",
      "  \"\"\"weight_variable generates a weight variable of a given shape.\"\"\"\n",
      "  initial = tf.truncated_normal(shape, stddev=0.1)\n",
      "  return tf.Variable(initial)\n",
      "\n",
      "\n",
      "def bias_variable(shape):\n",
      "  \"\"\"bias_variable generates a bias variable of a given shape.\"\"\"\n",
      "  initial = tf.constant(0.1, shape=shape)\n",
      "  return tf.Variable(initial)\n",
      "\n",
      "    \n",
      "def train(learning_rate=0.01, max_epochs=10, \n",
      "              batch_size=64):\n",
      "        \"\"\" Train network on the given data. \"\"\"\n",
      "        \n",
      "        # Define placeholder for x\n",
      "        x = tf.placeholder(tf.float32, [None, 784])\n",
      "\n",
      "        # Define placeholder for y\n",
      "        y_ = tf.placeholder(tf.float32, [None, 10])\n",
      "\n",
      "        # Predict given the data\n",
      "        y_conv = predict(x)\n",
      "\n",
      "        cross_entropy = tf.nn.softmax_cross_entropy_with_logits(labels=y_,\n",
      "                                                                logits=y_conv)\n",
      "        cross_entropy = tf.reduce_mean(cross_entropy)\n",
      "    \n",
      "        # Define loss and optimizer\n",
      "        train_step = tf.train.GradientDescentOptimizer(learning_rate).minimize(cross_entropy)\n",
      "\n",
      "        correct_prediction = tf.equal(tf.argmax(y_conv, 1), tf.argmax(y_, 1))\n",
      "        correct_prediction = tf.cast(correct_prediction, tf.float32)\n",
      "        accuracy = tf.reduce_mean(correct_prediction)\n",
      "        \n",
      "        train_acc = list()\n",
      "        val_acc = list()\n",
      "        test_acc = list()\n",
      "        \n",
      "        with tf.Session() as sess:\n",
      "            sess.run(tf.global_variables_initializer())\n",
      "            \n",
      "            for epoch in range(max_epochs):\n",
      "                for _ in range(int(mnist.train.num_examples/batch_size)):\n",
      "                    batch_xs, batch_ys = mnist.train.next_batch(batch_size)\n",
      "                    train_step.run(feed_dict={x: batch_xs, y_: batch_ys})\n",
      "                \n",
      "#                print('Epoch', epoch, 'completed out of', max_epochs)\n",
      "            \n",
      "                train_accuracy = accuracy.eval(feed_dict={\n",
      "                        x: mnist.train.images[:5000], y_: mnist.train.labels[:5000]})\n",
      "                \n",
      "                validation_accuracy = accuracy.eval(feed_dict={\n",
      "                    x: mnist.validation.images[:5000], y_: mnist.validation.labels[:5000]})\n",
      "                \n",
      "                test_accuracy = accuracy.eval(feed_dict={\n",
      "                    x: mnist.test.images[:5000], y_: mnist.test.labels[:5000]})\n",
      "                \n",
      "                train_acc.append(train_accuracy)\n",
      "                val_acc.append(validation_accuracy)\n",
      "                test_acc.append(test_accuracy)\n",
      "                \n",
      "            print('Training Completed for learning rate %s' % learning_rate)\n",
      "            return (train_acc, val_acc, test_acc)"
     ],
     "language": "python",
     "metadata": {},
     "outputs": [],
     "prompt_number": 15
    },
    {
     "cell_type": "markdown",
     "metadata": {},
     "source": [
      "# Training on MNIST\n",
      "Finally we can let our network run on the MNIST dataset!"
     ]
    },
    {
     "cell_type": "code",
     "collapsed": true,
     "input": [
      "acc = train()\n",
      "plt.plot(range(1,len(acc[0]) + 1), acc[0], label='Training accuracy')\n",
      "plt.plot(range(1,len(acc[1]) + 1), acc[1], label='Validation accuracy')\n",
      "plt.plot(range(1,len(acc[2]) + 1), acc[2], label='Test accuracy')\n",
      "plt.legend()\n",
      "plt.show()"
     ],
     "language": "python",
     "metadata": {},
     "outputs": []
    },
    {
     "cell_type": "heading",
     "level": 1,
     "metadata": {},
     "source": [
      "Task 2: Changing the Learning Rate"
     ]
    },
    {
     "cell_type": "code",
     "collapsed": true,
     "input": [
      "learning_rates = [0.1, 0.01, 0.001, 0.0001]\n",
      "validation_errors = list()\n",
      "for lr in learning_rates:\n",
      "    validation_errors.append(train(learning_rate=lr, max_epochs=5)[1])\n",
      "\n",
      "for lr, ve in zip(learning_rates, validation_errors):\n",
      "    plt.plot(range(1,len(ve) + 1), ve, label='Learning rate:%s' % lr)\n",
      "    plt.xlabel('number of epochs')\n",
      "    plt.ylabel('validation accuracy')\n",
      "plt.legend()\n",
      "plt.show()\n",
      "plt.savefig('learning_rate.png')"
     ],
     "language": "python",
     "metadata": {},
     "outputs": [
      {
       "output_type": "stream",
       "stream": "stdout",
       "text": [
        "epoch 0, training accuracy 0.9674\n",
        "epoch 0, validation accuracy 0.9674\n",
        "epoch 0, test accuracy 0.9674\n",
        "epoch 1, training accuracy 0.9808"
       ]
      },
      {
       "output_type": "stream",
       "stream": "stdout",
       "text": [
        "\n",
        "epoch 1, validation accuracy 0.9808\n",
        "epoch 1, test accuracy 0.9808\n",
        "epoch 2, training accuracy 0.9784"
       ]
      },
      {
       "output_type": "stream",
       "stream": "stdout",
       "text": [
        "\n",
        "epoch 2, validation accuracy 0.9784\n",
        "epoch 2, test accuracy 0.9784\n",
        "epoch 3, training accuracy 0.987"
       ]
      },
      {
       "output_type": "stream",
       "stream": "stdout",
       "text": [
        "\n",
        "epoch 3, validation accuracy 0.987\n",
        "epoch 3, test accuracy 0.987\n",
        "epoch 4, training accuracy 0.9884"
       ]
      },
      {
       "output_type": "stream",
       "stream": "stdout",
       "text": [
        "\n",
        "epoch 4, validation accuracy 0.9884\n",
        "epoch 4, test accuracy 0.9884\n",
        "epoch 0, training accuracy 0.883"
       ]
      },
      {
       "output_type": "stream",
       "stream": "stdout",
       "text": [
        "\n",
        "epoch 0, validation accuracy 0.883\n",
        "epoch 0, test accuracy 0.883\n",
        "epoch 1, training accuracy 0.9334"
       ]
      },
      {
       "output_type": "stream",
       "stream": "stdout",
       "text": [
        "\n",
        "epoch 1, validation accuracy 0.9334\n",
        "epoch 1, test accuracy 0.9334\n",
        "epoch 2, training accuracy 0.9454"
       ]
      },
      {
       "output_type": "stream",
       "stream": "stdout",
       "text": [
        "\n",
        "epoch 2, validation accuracy 0.9454\n",
        "epoch 2, test accuracy 0.9454\n",
        "epoch 3, training accuracy 0.9602"
       ]
      },
      {
       "output_type": "stream",
       "stream": "stdout",
       "text": [
        "\n",
        "epoch 3, validation accuracy 0.9602\n",
        "epoch 3, test accuracy 0.9602\n",
        "epoch 4, training accuracy 0.9652"
       ]
      },
      {
       "output_type": "stream",
       "stream": "stdout",
       "text": [
        "\n",
        "epoch 4, validation accuracy 0.9652\n",
        "epoch 4, test accuracy 0.9652\n",
        "epoch 0, training accuracy 0.3996"
       ]
      },
      {
       "output_type": "stream",
       "stream": "stdout",
       "text": [
        "\n",
        "epoch 0, validation accuracy 0.3996\n",
        "epoch 0, test accuracy 0.3996\n",
        "epoch 1, training accuracy 0.6078"
       ]
      },
      {
       "output_type": "stream",
       "stream": "stdout",
       "text": [
        "\n",
        "epoch 1, validation accuracy 0.6078\n",
        "epoch 1, test accuracy 0.6078\n",
        "epoch 2, training accuracy 0.7648"
       ]
      },
      {
       "output_type": "stream",
       "stream": "stdout",
       "text": [
        "\n",
        "epoch 2, validation accuracy 0.7648\n",
        "epoch 2, test accuracy 0.7648\n",
        "epoch 3, training accuracy 0.8468"
       ]
      },
      {
       "output_type": "stream",
       "stream": "stdout",
       "text": [
        "\n",
        "epoch 3, validation accuracy 0.8468\n",
        "epoch 3, test accuracy 0.8468\n",
        "epoch 4, training accuracy 0.8706"
       ]
      },
      {
       "output_type": "stream",
       "stream": "stdout",
       "text": [
        "\n",
        "epoch 4, validation accuracy 0.8706\n",
        "epoch 4, test accuracy 0.8706\n",
        "epoch 0, training accuracy 0.1272"
       ]
      },
      {
       "output_type": "stream",
       "stream": "stdout",
       "text": [
        "\n",
        "epoch 0, validation accuracy 0.1272\n",
        "epoch 0, test accuracy 0.1272\n",
        "epoch 1, training accuracy 0.1372"
       ]
      },
      {
       "output_type": "stream",
       "stream": "stdout",
       "text": [
        "\n",
        "epoch 1, validation accuracy 0.1372\n",
        "epoch 1, test accuracy 0.1372\n",
        "epoch 2, training accuracy 0.1612"
       ]
      },
      {
       "output_type": "stream",
       "stream": "stdout",
       "text": [
        "\n",
        "epoch 2, validation accuracy 0.1612\n",
        "epoch 2, test accuracy 0.1612\n",
        "epoch 3, training accuracy 0.1738"
       ]
      },
      {
       "output_type": "stream",
       "stream": "stdout",
       "text": [
        "\n",
        "epoch 3, validation accuracy 0.1738\n",
        "epoch 3, test accuracy 0.1738\n",
        "epoch 4, training accuracy 0.2114"
       ]
      },
      {
       "output_type": "stream",
       "stream": "stdout",
       "text": [
        "\n",
        "epoch 4, validation accuracy 0.2114\n",
        "epoch 4, test accuracy 0.2114\n"
       ]
      },
      {
       "metadata": {},
       "output_type": "display_data",
       "png": "[encoded data removed]",
       "text": [
        "<matplotlib.figure.Figure at 0x7fab7cf0f898>"
       ]
      }
     ],
     "prompt_number": 11
    },
    {
     "cell_type": "code",
     "collapsed": false,
     "input": [],
     "language": "python",
     "metadata": {},
     "outputs": [],
     "prompt_number": 13
    },
    {
     "cell_type": "code",
     "collapsed": false,
     "input": [],
     "language": "python",
     "metadata": {},
     "outputs": []
    }
   ],
   "metadata": {}
  }
 ]
}