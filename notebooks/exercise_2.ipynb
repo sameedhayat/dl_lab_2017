{
 "metadata": {
  "kernelspec": {
   "display_name": "Python 3",
   "language": "python",
   "name": "python3"
  },
  "language_info": {
   "codemirror_mode": {
    "name": "ipython",
    "version": 3
   },
   "file_extension": ".py",
   "mimetype": "text/x-python",
   "name": "python",
   "nbconvert_exporter": "python",
   "pygments_lexer": "ipython3",
   "version": "3.5.4"
  },
  "name": "",
  "signature": "sha256:5f40b71bc13f8137e21a4334e8bb7120e7f1ee79185e764d618384ecfc3867de"
 },
 "nbformat": 3,
 "nbformat_minor": 0,
 "worksheets": [
  {
   "cells": [
    {
     "cell_type": "code",
     "collapsed": true,
     "input": [
      "import time\n",
      "import numpy as np\n",
      "import tensorflow as tf\n",
      "from matplotlib import pyplot as plt\n",
      "from tensorflow.examples.tutorials.mnist import input_data\n",
      "%matplotlib inline"
     ],
     "language": "python",
     "metadata": {},
     "outputs": [],
     "prompt_number": 1
    },
    {
     "cell_type": "markdown",
     "metadata": {},
     "source": [
      "# Data Loading\n",
      "We first define a function for downloading and loading MNIST. "
     ]
    },
    {
     "cell_type": "code",
     "collapsed": true,
     "input": [
      "mnist = input_data.read_data_sets(train_dir = \"./MNIST_data\", one_hot=True)"
     ],
     "language": "python",
     "metadata": {},
     "outputs": [
      {
       "output_type": "stream",
       "stream": "stdout",
       "text": [
        "Extracting ./MNIST_data/train-images-idx3-ubyte.gz\n",
        "Extracting"
       ]
      },
      {
       "output_type": "stream",
       "stream": "stdout",
       "text": [
        " ./MNIST_data/train-labels-idx1-ubyte.gz\n",
        "Extracting ./MNIST_data/t10k-images-idx3-ubyte.gz\n",
        "Extracting ./MNIST_data/t10k-labels-idx1-ubyte.gz\n"
       ]
      }
     ],
     "prompt_number": 2
    },
    {
     "cell_type": "markdown",
     "metadata": {},
     "source": [
      "# LeNet Implementation\n",
      "Using two convolutional layers followed by relu activation and max pooling "
     ]
    },
    {
     "cell_type": "code",
     "collapsed": true,
     "input": [
      "def predict(x, filter_size = 16):\n",
      "    \"\"\"predict returns prediction given input.\"\"\"\n",
      "    x_image = tf.reshape(x, [-1, 28, 28, 1])\n",
      "    W_conv1 = weight_variable([3, 3, 1, filter_size])\n",
      "    b_conv1 = bias_variable([filter_size])\n",
      "    h_conv1 = tf.nn.relu(conv2d(x_image, W_conv1) + b_conv1)\n",
      "\n",
      "    h_pool1 = max_pool_2x2(h_conv1)\n",
      "    \n",
      "    W_conv2 = weight_variable([3, 3, filter_size, filter_size])\n",
      "    b_conv2 = bias_variable([filter_size])\n",
      "    h_conv2 = tf.nn.relu(conv2d(h_pool1, W_conv2) + b_conv2)\n",
      "    \n",
      "    h_pool2 = max_pool_2x2(h_conv2)\n",
      "    \n",
      "    W_fc1 = weight_variable([7 * 7 * filter_size, 128])\n",
      "    b_fc1 = bias_variable([128])\n",
      "\n",
      "    h_pool2_flat = tf.reshape(h_pool2, [-1, 7*7*16])\n",
      "    h_fc1 = tf.nn.relu(tf.matmul(h_pool2_flat, W_fc1) + b_fc1)\n",
      "\n",
      "    W_fc2 = weight_variable([128, 10])\n",
      "    b_fc2 = bias_variable([10])\n",
      "\n",
      "    y_conv = tf.matmul(h_fc1, W_fc2) + b_fc2\n",
      "\n",
      "    return y_conv\n",
      "\n",
      "def conv2d(x, W):\n",
      "  \"\"\"conv2d returns a 2d convolution layer with full stride.\"\"\"\n",
      "  return tf.nn.conv2d(x, W, strides=[1, 1, 1, 1], padding='SAME')\n",
      "\n",
      "\n",
      "def max_pool_2x2(x):\n",
      "  \"\"\"max_pool_2x2 downsamples a feature map by 2X.\"\"\"\n",
      "  return tf.nn.max_pool(x, ksize=[1, 2, 2, 1],\n",
      "                        strides=[1, 2, 2, 1], padding='SAME')\n",
      "\n",
      "\n",
      "def weight_variable(shape):\n",
      "  \"\"\"weight_variable generates a weight variable of a given shape.\"\"\"\n",
      "  initial = tf.truncated_normal(shape, stddev=0.1)\n",
      "  return tf.Variable(initial)\n",
      "\n",
      "\n",
      "def bias_variable(shape):\n",
      "  \"\"\"bias_variable generates a bias variable of a given shape.\"\"\"\n",
      "  initial = tf.constant(0.1, shape=shape)\n",
      "  return tf.Variable(initial)\n",
      "\n",
      "\n",
      "def bias_variable(shape):\n",
      "  \"\"\"bias_variable generates a bias variable of a given shape.\"\"\"\n",
      "  initial = tf.constant(0.1, shape=shape)\n",
      "  return tf.Variable(initial)\n",
      "\n",
      "\n",
      "\n",
      "def parameter_number(filter_number):\n",
      "    \"\"\"get number of parameters by filter number.\"\"\"\n",
      "    parameters_layer1 = (3 * 3 * 1 + 1) * filter_number\n",
      "    parameters_layer2 = (3 * 3 * filter_number + 1) * filter_number\n",
      "    parameters_layer3 = (7 * 7 * filter_number + 1) * 128\n",
      "    parameters_layer4 = (128 + 1) * 10\n",
      "    \n",
      "    parameters_number = parameters_layer1 + parameters_layer2 + parameters_layer3 + parameters_layer4 \n",
      "    return parameters_number\n",
      "\n",
      "\n",
      "def train(learning_rate=0.01, max_epochs=10, \n",
      "              batch_size=64, filter_number=16):\n",
      "        \"\"\" Train network on the given data. \"\"\"\n",
      "        \n",
      "        # Define placeholder for x\n",
      "        x = tf.placeholder(tf.float32, [None, 784])\n",
      "\n",
      "        # Define placeholder for y\n",
      "        y_ = tf.placeholder(tf.float32, [None, 10])\n",
      "\n",
      "        # Predict given the data\n",
      "        y_conv = predict(x, filter_number)\n",
      "\n",
      "        cross_entropy = tf.nn.softmax_cross_entropy_with_logits(labels=y_,\n",
      "                                                                logits=y_conv)\n",
      "        cross_entropy = tf.reduce_mean(cross_entropy)\n",
      "    \n",
      "        # Define loss and optimizer\n",
      "        train_step = tf.train.GradientDescentOptimizer(learning_rate).minimize(cross_entropy)\n",
      "\n",
      "        correct_prediction = tf.equal(tf.argmax(y_conv, 1), tf.argmax(y_, 1))\n",
      "        correct_prediction = tf.cast(correct_prediction, tf.float32)\n",
      "        accuracy = tf.reduce_mean(correct_prediction)\n",
      "        \n",
      "        train_acc = list()\n",
      "        val_acc = list()\n",
      "        test_acc = list()\n",
      "        \n",
      "        with tf.Session() as sess:\n",
      "            sess.run(tf.global_variables_initializer())\n",
      "            \n",
      "            for epoch in range(max_epochs):\n",
      "                for _ in range(int(mnist.train.num_examples/batch_size)):\n",
      "                    batch_xs, batch_ys = mnist.train.next_batch(batch_size)\n",
      "                    train_step.run(feed_dict={x: batch_xs, y_: batch_ys})\n",
      "                \n",
      "#                print('Epoch', epoch, 'completed out of', max_epochs)\n",
      "            \n",
      "                train_accuracy = accuracy.eval(feed_dict={\n",
      "                        x: mnist.train.images[:5000], y_: mnist.train.labels[:5000]})\n",
      "                \n",
      "                validation_accuracy = accuracy.eval(feed_dict={\n",
      "                    x: mnist.validation.images[:5000], y_: mnist.validation.labels[:5000]})\n",
      "                \n",
      "                test_accuracy = accuracy.eval(feed_dict={\n",
      "                    x: mnist.test.images[:5000], y_: mnist.test.labels[:5000]})\n",
      "                \n",
      "                train_acc.append(train_accuracy)\n",
      "                val_acc.append(validation_accuracy)\n",
      "                test_acc.append(test_accuracy)\n",
      "                \n",
      "            print('Training Completed for learning rate %s' % learning_rate)\n",
      "            return (train_acc, val_acc, test_acc)"
     ],
     "language": "python",
     "metadata": {},
     "outputs": [],
     "prompt_number": 19
    },
    {
     "cell_type": "markdown",
     "metadata": {},
     "source": [
      "# Training on MNIST\n",
      "Finally we can let our network run on the MNIST dataset!"
     ]
    },
    {
     "cell_type": "code",
     "collapsed": true,
     "input": [
      "acc = train(learning_rate=0.01, max_epochs=10)\n",
      "plt.plot(range(1,len(acc[0]) + 1), acc[0], label='Training accuracy')\n",
      "plt.plot(range(1,len(acc[1]) + 1), acc[1], label='Validation accuracy')\n",
      "plt.plot(range(1,len(acc[2]) + 1), acc[2], label='Test accuracy')\n",
      "plt.legend(bbox_to_anchor=(1.05, 1), loc=2)\n",
      "plt.show()"
     ],
     "language": "python",
     "metadata": {},
     "outputs": [
      {
       "output_type": "stream",
       "stream": "stdout",
       "text": [
        "Training Completed for learning rate 0.01\n"
       ]
      },
      {
       "metadata": {},
       "output_type": "display_data",
       "png": "[encoded data removed]",
       "text": [
        "<matplotlib.figure.Figure at 0x7f58d6a55d68>"
       ]
      }
     ],
     "prompt_number": 20
    },
    {
     "cell_type": "heading",
     "level": 1,
     "metadata": {},
     "source": [
      "Task 2: Changing the Learning Rate"
     ]
    },
    {
     "cell_type": "code",
     "collapsed": true,
     "input": [
      "learning_rates = [0.1, 0.01, 0.001, 0.0001]\n",
      "validation_accuracy = list()\n",
      "for lr in learning_rates:\n",
      "    validation_accuracy.append(train(learning_rate=lr, max_epochs=50)[1])\n",
      "\n",
      "for i, va in enumerate(validation_accuracy):\n",
      "    plt.plot(range(1,len(va) + 1), va, label='Learning rate:%s' % learning_rates[i])\n",
      "    plt.xlabel('number of epochs')\n",
      "    plt.ylabel('validation accuracy')\n",
      "plt.legend(bbox_to_anchor=(1.05, 1), loc=2)\n",
      "plt.show()\n",
      "plt.savefig('learning_rate.png')"
     ],
     "language": "python",
     "metadata": {},
     "outputs": [
      {
       "output_type": "stream",
       "stream": "stdout",
       "text": [
        "Training Completed for learning rate 0.1\n",
        "([0.97099966, 0.98619962, 0.98939973, 0.99039972, 0.99119973, 0.99059969, 0.99459976, 0.99699974, 0.99699974, 0.99759972, 0.99899971, 0.99739969, 0.99679971, 0.99779969, 0.99939966, 0.99919975, 0.99999964, 0.99919969, 0.99979973, 0.99999964, 0.99979973, 0.99999964, 0.9995997, 0.9999997, 0.99999964, 0.99999964, 0.9999997, 0.99999964, 0.99999964, 0.99999964, 0.9999997, 0.99999964, 0.99999964, 0.99999964, 0.99999964, 0.99999964, 0.99999964, 0.9999997, 0.99999964, 0.99999964, 0.99999964, 0.99999964, 0.99999964, 0.99999964, 0.99999964, 0.99999964, 0.99999964, 0.99999964, 0.99999964, 0.99999964], [0.97299969, 0.98499966, 0.98619962, 0.98599976, 0.98759973, 0.9855997, 0.98819971, 0.98979974, 0.98999965, 0.98959976, 0.99079973, 0.98939973, 0.98979968, 0.9895997, 0.99079967, 0.98919976, 0.98919964, 0.99119967, 0.99019974, 0.99079967, 0.98919976, 0.9895997, 0.98879969, 0.98999971, 0.98999977, 0.98999965, 0.98979974, 0.98979974, 0.98999977, 0.99019969, 0.98999977, 0.98939967, 0.98999971, 0.99039972, 0.98999971, 0.99019969, 0.99019969, 0.98999971, 0.9901998, 0.99019969, 0.98979974, 0.99019969, 0.9895997, 0.98999971, 0.99019969, 0.98979974, 0.99019974, 0.98979974, 0.98979974, 0.99039972], [0.95999974, 0.97539973, 0.97799975, 0.97939974, 0.97859967, 0.97779965, 0.98459977, 0.98459977, 0.98339969, 0.9837997, 0.98459971, 0.98079973, 0.98459983, 0.98219973, 0.98479974, 0.98419964, 0.98459965, 0.98439974, 0.98639971, 0.98539972, 0.98359972, 0.9859997, 0.9855997, 0.98519969, 0.98679966, 0.9859997, 0.98699969, 0.98579967, 0.98699963, 0.98659968, 0.98619962, 0.98699975, 0.98659968, 0.98659968, 0.9873997, 0.9873997, 0.98719966, 0.98699975, 0.98699963, 0.9873997, 0.98699975, 0.98799968, 0.9873997, 0.98719972, 0.98719966, 0.98719978, 0.98719966, 0.98719966, 0.98699963, 0.9873997])\n",
        "Training Completed for learning rate 0.1"
       ]
      },
      {
       "output_type": "stream",
       "stream": "stdout",
       "text": [
        "\n"
       ]
      },
      {
       "ename": "KeyboardInterrupt",
       "evalue": "",
       "output_type": "pyerr",
       "traceback": [
        "\u001b[0;31m---------------------------------------------------------------------------\u001b[0m\n\u001b[0;31mKeyboardInterrupt\u001b[0m                         Traceback (most recent call last)",
        "\u001b[0;32m<ipython-input-21-79dd4a8ffadb>\u001b[0m in \u001b[0;36m<module>\u001b[0;34m()\u001b[0m\n\u001b[1;32m      2\u001b[0m \u001b[0mvalidation_accuracy\u001b[0m \u001b[0;34m=\u001b[0m \u001b[0mlist\u001b[0m\u001b[0;34m(\u001b[0m\u001b[0;34m)\u001b[0m\u001b[0;34m\u001b[0m\u001b[0m\n\u001b[1;32m      3\u001b[0m \u001b[0;32mfor\u001b[0m \u001b[0mlr\u001b[0m \u001b[0;32min\u001b[0m \u001b[0mlearning_rates\u001b[0m\u001b[0;34m:\u001b[0m\u001b[0;34m\u001b[0m\u001b[0m\n\u001b[0;32m----> 4\u001b[0;31m     \u001b[0mprint\u001b[0m\u001b[0;34m(\u001b[0m\u001b[0mtrain\u001b[0m\u001b[0;34m(\u001b[0m\u001b[0mlearning_rate\u001b[0m\u001b[0;34m=\u001b[0m\u001b[0mlr\u001b[0m\u001b[0;34m,\u001b[0m \u001b[0mmax_epochs\u001b[0m\u001b[0;34m=\u001b[0m\u001b[0;36m50\u001b[0m\u001b[0;34m)\u001b[0m\u001b[0;34m)\u001b[0m\u001b[0;34m\u001b[0m\u001b[0m\n\u001b[0m\u001b[1;32m      5\u001b[0m     \u001b[0mvalidation_accuracy\u001b[0m\u001b[0;34m.\u001b[0m\u001b[0mappend\u001b[0m\u001b[0;34m(\u001b[0m\u001b[0mtrain\u001b[0m\u001b[0;34m(\u001b[0m\u001b[0mlearning_rate\u001b[0m\u001b[0;34m=\u001b[0m\u001b[0mlr\u001b[0m\u001b[0;34m,\u001b[0m \u001b[0mmax_epochs\u001b[0m\u001b[0;34m=\u001b[0m\u001b[0;36m50\u001b[0m\u001b[0;34m)\u001b[0m\u001b[0;34m[\u001b[0m\u001b[0;36m1\u001b[0m\u001b[0;34m]\u001b[0m\u001b[0;34m)\u001b[0m\u001b[0;34m\u001b[0m\u001b[0m\n\u001b[1;32m      6\u001b[0m \u001b[0;34m\u001b[0m\u001b[0m\n",
        "\u001b[0;32m<ipython-input-19-81e07276c5e8>\u001b[0m in \u001b[0;36mtrain\u001b[0;34m(learning_rate, max_epochs, batch_size, filter_number)\u001b[0m\n\u001b[1;32m    102\u001b[0m                 \u001b[0;32mfor\u001b[0m \u001b[0m_\u001b[0m \u001b[0;32min\u001b[0m \u001b[0mrange\u001b[0m\u001b[0;34m(\u001b[0m\u001b[0mint\u001b[0m\u001b[0;34m(\u001b[0m\u001b[0mmnist\u001b[0m\u001b[0;34m.\u001b[0m\u001b[0mtrain\u001b[0m\u001b[0;34m.\u001b[0m\u001b[0mnum_examples\u001b[0m\u001b[0;34m/\u001b[0m\u001b[0mbatch_size\u001b[0m\u001b[0;34m)\u001b[0m\u001b[0;34m)\u001b[0m\u001b[0;34m:\u001b[0m\u001b[0;34m\u001b[0m\u001b[0m\n\u001b[1;32m    103\u001b[0m                     \u001b[0mbatch_xs\u001b[0m\u001b[0;34m,\u001b[0m \u001b[0mbatch_ys\u001b[0m \u001b[0;34m=\u001b[0m \u001b[0mmnist\u001b[0m\u001b[0;34m.\u001b[0m\u001b[0mtrain\u001b[0m\u001b[0;34m.\u001b[0m\u001b[0mnext_batch\u001b[0m\u001b[0;34m(\u001b[0m\u001b[0mbatch_size\u001b[0m\u001b[0;34m)\u001b[0m\u001b[0;34m\u001b[0m\u001b[0m\n\u001b[0;32m--> 104\u001b[0;31m                     \u001b[0mtrain_step\u001b[0m\u001b[0;34m.\u001b[0m\u001b[0mrun\u001b[0m\u001b[0;34m(\u001b[0m\u001b[0mfeed_dict\u001b[0m\u001b[0;34m=\u001b[0m\u001b[0;34m{\u001b[0m\u001b[0mx\u001b[0m\u001b[0;34m:\u001b[0m \u001b[0mbatch_xs\u001b[0m\u001b[0;34m,\u001b[0m \u001b[0my_\u001b[0m\u001b[0;34m:\u001b[0m \u001b[0mbatch_ys\u001b[0m\u001b[0;34m}\u001b[0m\u001b[0;34m)\u001b[0m\u001b[0;34m\u001b[0m\u001b[0m\n\u001b[0m\u001b[1;32m    105\u001b[0m \u001b[0;34m\u001b[0m\u001b[0m\n\u001b[1;32m    106\u001b[0m \u001b[0;31m#                print('Epoch', epoch, 'completed out of', max_epochs)\u001b[0m\u001b[0;34m\u001b[0m\u001b[0;34m\u001b[0m\u001b[0m\n",
        "\u001b[0;32m/usr/local/lib/python3.5/dist-packages/tensorflow/python/framework/ops.py\u001b[0m in \u001b[0;36mrun\u001b[0;34m(self, feed_dict, session)\u001b[0m\n\u001b[1;32m   1742\u001b[0m         \u001b[0mnone\u001b[0m\u001b[0;34m,\u001b[0m \u001b[0mthe\u001b[0m \u001b[0mdefault\u001b[0m \u001b[0msession\u001b[0m \u001b[0mwill\u001b[0m \u001b[0mbe\u001b[0m \u001b[0mused\u001b[0m\u001b[0;34m.\u001b[0m\u001b[0;34m\u001b[0m\u001b[0m\n\u001b[1;32m   1743\u001b[0m     \"\"\"\n\u001b[0;32m-> 1744\u001b[0;31m     \u001b[0m_run_using_default_session\u001b[0m\u001b[0;34m(\u001b[0m\u001b[0mself\u001b[0m\u001b[0;34m,\u001b[0m \u001b[0mfeed_dict\u001b[0m\u001b[0;34m,\u001b[0m \u001b[0mself\u001b[0m\u001b[0;34m.\u001b[0m\u001b[0mgraph\u001b[0m\u001b[0;34m,\u001b[0m \u001b[0msession\u001b[0m\u001b[0;34m)\u001b[0m\u001b[0;34m\u001b[0m\u001b[0m\n\u001b[0m\u001b[1;32m   1745\u001b[0m \u001b[0;34m\u001b[0m\u001b[0m\n\u001b[1;32m   1746\u001b[0m \u001b[0;34m\u001b[0m\u001b[0m\n",
        "\u001b[0;32m/usr/local/lib/python3.5/dist-packages/tensorflow/python/framework/ops.py\u001b[0m in \u001b[0;36m_run_using_default_session\u001b[0;34m(operation, feed_dict, graph, session)\u001b[0m\n\u001b[1;32m   4118\u001b[0m                        \u001b[0;34m\"the operation's graph is different from the session's \"\u001b[0m\u001b[0;34m\u001b[0m\u001b[0m\n\u001b[1;32m   4119\u001b[0m                        \"graph.\")\n\u001b[0;32m-> 4120\u001b[0;31m   \u001b[0msession\u001b[0m\u001b[0;34m.\u001b[0m\u001b[0mrun\u001b[0m\u001b[0;34m(\u001b[0m\u001b[0moperation\u001b[0m\u001b[0;34m,\u001b[0m \u001b[0mfeed_dict\u001b[0m\u001b[0;34m)\u001b[0m\u001b[0;34m\u001b[0m\u001b[0m\n\u001b[0m\u001b[1;32m   4121\u001b[0m \u001b[0;34m\u001b[0m\u001b[0m\n\u001b[1;32m   4122\u001b[0m \u001b[0;34m\u001b[0m\u001b[0m\n",
        "\u001b[0;32m/usr/local/lib/python3.5/dist-packages/tensorflow/python/client/session.py\u001b[0m in \u001b[0;36mrun\u001b[0;34m(self, fetches, feed_dict, options, run_metadata)\u001b[0m\n\u001b[1;32m    893\u001b[0m     \u001b[0;32mtry\u001b[0m\u001b[0;34m:\u001b[0m\u001b[0;34m\u001b[0m\u001b[0m\n\u001b[1;32m    894\u001b[0m       result = self._run(None, fetches, feed_dict, options_ptr,\n\u001b[0;32m--> 895\u001b[0;31m                          run_metadata_ptr)\n\u001b[0m\u001b[1;32m    896\u001b[0m       \u001b[0;32mif\u001b[0m \u001b[0mrun_metadata\u001b[0m\u001b[0;34m:\u001b[0m\u001b[0;34m\u001b[0m\u001b[0m\n\u001b[1;32m    897\u001b[0m         \u001b[0mproto_data\u001b[0m \u001b[0;34m=\u001b[0m \u001b[0mtf_session\u001b[0m\u001b[0;34m.\u001b[0m\u001b[0mTF_GetBuffer\u001b[0m\u001b[0;34m(\u001b[0m\u001b[0mrun_metadata_ptr\u001b[0m\u001b[0;34m)\u001b[0m\u001b[0;34m\u001b[0m\u001b[0m\n",
        "\u001b[0;32m/usr/local/lib/python3.5/dist-packages/tensorflow/python/client/session.py\u001b[0m in \u001b[0;36m_run\u001b[0;34m(self, handle, fetches, feed_dict, options, run_metadata)\u001b[0m\n\u001b[1;32m   1122\u001b[0m     \u001b[0;32mif\u001b[0m \u001b[0mfinal_fetches\u001b[0m \u001b[0;32mor\u001b[0m \u001b[0mfinal_targets\u001b[0m \u001b[0;32mor\u001b[0m \u001b[0;34m(\u001b[0m\u001b[0mhandle\u001b[0m \u001b[0;32mand\u001b[0m \u001b[0mfeed_dict_tensor\u001b[0m\u001b[0;34m)\u001b[0m\u001b[0;34m:\u001b[0m\u001b[0;34m\u001b[0m\u001b[0m\n\u001b[1;32m   1123\u001b[0m       results = self._do_run(handle, final_targets, final_fetches,\n\u001b[0;32m-> 1124\u001b[0;31m                              feed_dict_tensor, options, run_metadata)\n\u001b[0m\u001b[1;32m   1125\u001b[0m     \u001b[0;32melse\u001b[0m\u001b[0;34m:\u001b[0m\u001b[0;34m\u001b[0m\u001b[0m\n\u001b[1;32m   1126\u001b[0m       \u001b[0mresults\u001b[0m \u001b[0;34m=\u001b[0m \u001b[0;34m[\u001b[0m\u001b[0;34m]\u001b[0m\u001b[0;34m\u001b[0m\u001b[0m\n",
        "\u001b[0;32m/usr/local/lib/python3.5/dist-packages/tensorflow/python/client/session.py\u001b[0m in \u001b[0;36m_do_run\u001b[0;34m(self, handle, target_list, fetch_list, feed_dict, options, run_metadata)\u001b[0m\n\u001b[1;32m   1319\u001b[0m     \u001b[0;32mif\u001b[0m \u001b[0mhandle\u001b[0m \u001b[0;32mis\u001b[0m \u001b[0;32mNone\u001b[0m\u001b[0;34m:\u001b[0m\u001b[0;34m\u001b[0m\u001b[0m\n\u001b[1;32m   1320\u001b[0m       return self._do_call(_run_fn, self._session, feeds, fetches, targets,\n\u001b[0;32m-> 1321\u001b[0;31m                            options, run_metadata)\n\u001b[0m\u001b[1;32m   1322\u001b[0m     \u001b[0;32melse\u001b[0m\u001b[0;34m:\u001b[0m\u001b[0;34m\u001b[0m\u001b[0m\n\u001b[1;32m   1323\u001b[0m       \u001b[0;32mreturn\u001b[0m \u001b[0mself\u001b[0m\u001b[0;34m.\u001b[0m\u001b[0m_do_call\u001b[0m\u001b[0;34m(\u001b[0m\u001b[0m_prun_fn\u001b[0m\u001b[0;34m,\u001b[0m \u001b[0mself\u001b[0m\u001b[0;34m.\u001b[0m\u001b[0m_session\u001b[0m\u001b[0;34m,\u001b[0m \u001b[0mhandle\u001b[0m\u001b[0;34m,\u001b[0m \u001b[0mfeeds\u001b[0m\u001b[0;34m,\u001b[0m \u001b[0mfetches\u001b[0m\u001b[0;34m)\u001b[0m\u001b[0;34m\u001b[0m\u001b[0m\n",
        "\u001b[0;32m/usr/local/lib/python3.5/dist-packages/tensorflow/python/client/session.py\u001b[0m in \u001b[0;36m_do_call\u001b[0;34m(self, fn, *args)\u001b[0m\n\u001b[1;32m   1325\u001b[0m   \u001b[0;32mdef\u001b[0m \u001b[0m_do_call\u001b[0m\u001b[0;34m(\u001b[0m\u001b[0mself\u001b[0m\u001b[0;34m,\u001b[0m \u001b[0mfn\u001b[0m\u001b[0;34m,\u001b[0m \u001b[0;34m*\u001b[0m\u001b[0margs\u001b[0m\u001b[0;34m)\u001b[0m\u001b[0;34m:\u001b[0m\u001b[0;34m\u001b[0m\u001b[0m\n\u001b[1;32m   1326\u001b[0m     \u001b[0;32mtry\u001b[0m\u001b[0;34m:\u001b[0m\u001b[0;34m\u001b[0m\u001b[0m\n\u001b[0;32m-> 1327\u001b[0;31m       \u001b[0;32mreturn\u001b[0m \u001b[0mfn\u001b[0m\u001b[0;34m(\u001b[0m\u001b[0;34m*\u001b[0m\u001b[0margs\u001b[0m\u001b[0;34m)\u001b[0m\u001b[0;34m\u001b[0m\u001b[0m\n\u001b[0m\u001b[1;32m   1328\u001b[0m     \u001b[0;32mexcept\u001b[0m \u001b[0merrors\u001b[0m\u001b[0;34m.\u001b[0m\u001b[0mOpError\u001b[0m \u001b[0;32mas\u001b[0m \u001b[0me\u001b[0m\u001b[0;34m:\u001b[0m\u001b[0;34m\u001b[0m\u001b[0m\n\u001b[1;32m   1329\u001b[0m       \u001b[0mmessage\u001b[0m \u001b[0;34m=\u001b[0m \u001b[0mcompat\u001b[0m\u001b[0;34m.\u001b[0m\u001b[0mas_text\u001b[0m\u001b[0;34m(\u001b[0m\u001b[0me\u001b[0m\u001b[0;34m.\u001b[0m\u001b[0mmessage\u001b[0m\u001b[0;34m)\u001b[0m\u001b[0;34m\u001b[0m\u001b[0m\n",
        "\u001b[0;32m/usr/local/lib/python3.5/dist-packages/tensorflow/python/client/session.py\u001b[0m in \u001b[0;36m_run_fn\u001b[0;34m(session, feed_dict, fetch_list, target_list, options, run_metadata)\u001b[0m\n\u001b[1;32m   1304\u001b[0m           return tf_session.TF_Run(session, options,\n\u001b[1;32m   1305\u001b[0m                                    \u001b[0mfeed_dict\u001b[0m\u001b[0;34m,\u001b[0m \u001b[0mfetch_list\u001b[0m\u001b[0;34m,\u001b[0m \u001b[0mtarget_list\u001b[0m\u001b[0;34m,\u001b[0m\u001b[0;34m\u001b[0m\u001b[0m\n\u001b[0;32m-> 1306\u001b[0;31m                                    status, run_metadata)\n\u001b[0m\u001b[1;32m   1307\u001b[0m \u001b[0;34m\u001b[0m\u001b[0m\n\u001b[1;32m   1308\u001b[0m     \u001b[0;32mdef\u001b[0m \u001b[0m_prun_fn\u001b[0m\u001b[0;34m(\u001b[0m\u001b[0msession\u001b[0m\u001b[0;34m,\u001b[0m \u001b[0mhandle\u001b[0m\u001b[0;34m,\u001b[0m \u001b[0mfeed_dict\u001b[0m\u001b[0;34m,\u001b[0m \u001b[0mfetch_list\u001b[0m\u001b[0;34m)\u001b[0m\u001b[0;34m:\u001b[0m\u001b[0;34m\u001b[0m\u001b[0m\n",
        "\u001b[0;31mKeyboardInterrupt\u001b[0m: "
       ]
      }
     ],
     "prompt_number": 21
    },
    {
     "cell_type": "markdown",
     "metadata": {},
     "source": [
      "#Task 3: Run Time"
     ]
    },
    {
     "cell_type": "code",
     "collapsed": false,
     "input": [
      "filters = [8, 16, 32, 64, 128, 256]\n",
      "times = list()\n",
      "parameters_count = list()\n",
      "for filter_number in filters:\n",
      "    t0 = time.time()\n",
      "    parameters_count.append(parameter_number(filter_number))\n",
      "    train(filter = filter_number)\n",
      "    t1 = time.time()\n",
      "    times.append(t0, t1)"
     ],
     "language": "python",
     "metadata": {},
     "outputs": [
      {
       "ename": "NameError",
       "evalue": "name 'pool_size' is not defined",
       "output_type": "pyerr",
       "traceback": [
        "\u001b[0;31m---------------------------------------------------------------------------\u001b[0m\n\u001b[0;31mNameError\u001b[0m                                 Traceback (most recent call last)",
        "\u001b[0;32m<ipython-input-8-37fc11716204>\u001b[0m in \u001b[0;36m<module>\u001b[0;34m()\u001b[0m\n\u001b[1;32m      4\u001b[0m \u001b[0;32mfor\u001b[0m \u001b[0mfilter_number\u001b[0m \u001b[0;32min\u001b[0m \u001b[0mfilters\u001b[0m\u001b[0;34m:\u001b[0m\u001b[0;34m\u001b[0m\u001b[0m\n\u001b[1;32m      5\u001b[0m     \u001b[0mt0\u001b[0m \u001b[0;34m=\u001b[0m \u001b[0mtime\u001b[0m\u001b[0;34m.\u001b[0m\u001b[0mtime\u001b[0m\u001b[0;34m(\u001b[0m\u001b[0;34m)\u001b[0m\u001b[0;34m\u001b[0m\u001b[0m\n\u001b[0;32m----> 6\u001b[0;31m     \u001b[0mparameters_count\u001b[0m\u001b[0;34m.\u001b[0m\u001b[0mappend\u001b[0m\u001b[0;34m(\u001b[0m\u001b[0mparameter_number\u001b[0m\u001b[0;34m(\u001b[0m\u001b[0mfilter_number\u001b[0m\u001b[0;34m)\u001b[0m\u001b[0;34m)\u001b[0m\u001b[0;34m\u001b[0m\u001b[0m\n\u001b[0m\u001b[1;32m      7\u001b[0m     \u001b[0mtrain\u001b[0m\u001b[0;34m(\u001b[0m\u001b[0mfilter\u001b[0m \u001b[0;34m=\u001b[0m \u001b[0mfilter_number\u001b[0m\u001b[0;34m)\u001b[0m\u001b[0;34m\u001b[0m\u001b[0m\n\u001b[1;32m      8\u001b[0m     \u001b[0mt1\u001b[0m \u001b[0;34m=\u001b[0m \u001b[0mtime\u001b[0m\u001b[0;34m.\u001b[0m\u001b[0mtime\u001b[0m\u001b[0;34m(\u001b[0m\u001b[0;34m)\u001b[0m\u001b[0;34m\u001b[0m\u001b[0m\n",
        "\u001b[0;32m<ipython-input-3-312acb050f80>\u001b[0m in \u001b[0;36mparameter_number\u001b[0;34m(filter_number)\u001b[0m\n\u001b[1;32m     58\u001b[0m     \u001b[0mfully_connected_size\u001b[0m \u001b[0;34m=\u001b[0m \u001b[0;36m128\u001b[0m\u001b[0;34m\u001b[0m\u001b[0m\n\u001b[1;32m     59\u001b[0m \u001b[0;34m\u001b[0m\u001b[0m\n\u001b[0;32m---> 60\u001b[0;31m     \u001b[0mpool1_size\u001b[0m \u001b[0;34m=\u001b[0m \u001b[0mpool_size\u001b[0m\u001b[0;34m(\u001b[0m\u001b[0minput_size\u001b[0m\u001b[0;34m)\u001b[0m\u001b[0;34m\u001b[0m\u001b[0m\n\u001b[0m\u001b[1;32m     61\u001b[0m     \u001b[0mpool2_size\u001b[0m \u001b[0;34m=\u001b[0m \u001b[0mpool_size\u001b[0m\u001b[0;34m(\u001b[0m\u001b[0mpool1_size\u001b[0m\u001b[0;34m)\u001b[0m\u001b[0;34m\u001b[0m\u001b[0m\n\u001b[1;32m     62\u001b[0m \u001b[0;34m\u001b[0m\u001b[0m\n",
        "\u001b[0;31mNameError\u001b[0m: name 'pool_size' is not defined"
       ]
      }
     ],
     "prompt_number": 8
    },
    {
     "cell_type": "markdown",
     "metadata": {},
     "source": [
      "Plotting parameters vs runtime"
     ]
    },
    {
     "cell_type": "code",
     "collapsed": false,
     "input": [
      "filters_text = ['8x8', '16x16', '32x32', '64x64', '128x128', '256x256']\n",
      "plt.scatter(parameters_count, times)\n",
      "for i, txt in enumerate(filters_text):\n",
      "    ax.annotate(txt, (parameters_count[i], times[i]))\n",
      "plt.xlabel('number of parameters')\n",
      "plt.ylabel('runtime')\n",
      "plt.show()"
     ],
     "language": "python",
     "metadata": {},
     "outputs": []
    },
    {
     "cell_type": "code",
     "collapsed": false,
     "input": [],
     "language": "python",
     "metadata": {},
     "outputs": []
    }
   ],
   "metadata": {}
  }
 ]
}