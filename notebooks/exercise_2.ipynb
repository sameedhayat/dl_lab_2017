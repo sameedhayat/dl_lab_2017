{
 "metadata": {
  "kernelspec": {
   "display_name": "Python 3",
   "language": "python",
   "name": "python3"
  },
  "language_info": {
   "codemirror_mode": {
    "name": "ipython",
    "version": 3
   },
   "file_extension": ".py",
   "mimetype": "text/x-python",
   "name": "python",
   "nbconvert_exporter": "python",
   "pygments_lexer": "ipython3",
   "version": "3.5.4"
  },
  "name": "",
  "signature": "sha256:e44baeb0b980f2e6d202c5518854560790234e44cb50d42173822c13fa649c34"
 },
 "nbformat": 3,
 "nbformat_minor": 0,
 "worksheets": [
  {
   "cells": [
    {
     "cell_type": "code",
     "collapsed": true,
     "input": [
      "import numpy as np\n",
      "import tensorflow as tf\n",
      "from matplotlib import pyplot as plt\n",
      "from tensorflow.examples.tutorials.mnist import input_data\n",
      "%matplotlib inline"
     ],
     "language": "python",
     "metadata": {},
     "outputs": [],
     "prompt_number": 1
    },
    {
     "cell_type": "markdown",
     "metadata": {},
     "source": [
      "# Data Loading\n",
      "We first define a function for downloading and loading MNIST. "
     ]
    },
    {
     "cell_type": "code",
     "collapsed": true,
     "input": [
      "mnist = input_data.read_data_sets(train_dir = \"./MNIST_data\", one_hot=True)"
     ],
     "language": "python",
     "metadata": {},
     "outputs": [
      {
       "output_type": "stream",
       "stream": "stdout",
       "text": [
        "Extracting ./MNIST_data/train-images-idx3-ubyte.gz\n",
        "Extracting"
       ]
      },
      {
       "output_type": "stream",
       "stream": "stdout",
       "text": [
        " ./MNIST_data/train-labels-idx1-ubyte.gz\n",
        "Extracting ./MNIST_data/t10k-images-idx3-ubyte.gz\n",
        "Extracting ./MNIST_data/t10k-labels-idx1-ubyte.gz\n"
       ]
      }
     ],
     "prompt_number": 2
    },
    {
     "cell_type": "markdown",
     "metadata": {},
     "source": [
      "# LeNet Implementation\n",
      "Using two convolutional layers followed by relu activation and max pooling "
     ]
    },
    {
     "cell_type": "code",
     "collapsed": true,
     "input": [
      "def predict(self, x, filter_size = 16):\n",
      "    \"\"\"predict returns prediction given input.\"\"\"\n",
      "    x_image = tf.reshape(x, [-1, 28, 28, 1])\n",
      "    W_conv1 = self.weight_variable([3, 3, 1, filter_size])\n",
      "    b_conv1 = self.bias_variable([filter_size])\n",
      "    h_conv1 = tf.nn.relu(self.conv2d(x_image, W_conv1) + b_conv1)\n",
      "\n",
      "    h_pool1 = self.max_pool_2x2(h_conv1)\n",
      "\n",
      "    W_conv2 = self.weight_variable([3, 3, filter_size, filter_size])\n",
      "    b_conv2 = self.bias_variable([filter_size])\n",
      "    h_conv2 = tf.nn.relu(self.conv2d(h_pool1, W_conv2) + b_conv2)\n",
      "\n",
      "    h_pool2 = self.max_pool_2x2(h_conv2)\n",
      "    \n",
      "    pool1_size = pool_size(28)\n",
      "    pool2_size = pool_size(pool1_size)\n",
      "    \n",
      "    W_fc1 = self.weight_variable([pool2_size * pool2_size * filter_size, 128])\n",
      "    b_fc1 = self.bias_variable([128])\n",
      "\n",
      "    h_pool2_flat = tf.reshape(h_pool2, [-1, 7*7*16])\n",
      "    h_fc1 = tf.nn.relu(tf.matmul(h_pool2_flat, W_fc1) + b_fc1)\n",
      "\n",
      "    W_fc2 = self.weight_variable([128, 10])\n",
      "    b_fc2 = self.bias_variable([10])\n",
      "\n",
      "    y_conv = tf.matmul(h_fc1, W_fc2) + b_fc2\n",
      "\n",
      "    return y_conv\n",
      "\n",
      "def conv2d(x, W):\n",
      "  \"\"\"conv2d returns a 2d convolution layer with full stride.\"\"\"\n",
      "  return tf.nn.conv2d(x, W, strides=[1, 1, 1, 1], padding='SAME')\n",
      "\n",
      "\n",
      "def max_pool_2x2(x):\n",
      "  \"\"\"max_pool_2x2 downsamples a feature map by 2X.\"\"\"\n",
      "  return tf.nn.max_pool(x, ksize=[1, 2, 2, 1],\n",
      "                        strides=[1, 2, 2, 1], padding='SAME')\n",
      "\n",
      "\n",
      "def weight_variable(shape):\n",
      "  \"\"\"weight_variable generates a weight variable of a given shape.\"\"\"\n",
      "  initial = tf.truncated_normal(shape, stddev=0.1)\n",
      "  return tf.Variable(initial)\n",
      "\n",
      "\n",
      "def bias_variable(shape):\n",
      "  \"\"\"bias_variable generates a bias variable of a given shape.\"\"\"\n",
      "  initial = tf.constant(0.1, shape=shape)\n",
      "  return tf.Variable(initial)\n",
      "\n",
      "def parameter_number(filter_number):\n",
      "    \"\"\"get number of parameters by filter number.\"\"\"\n",
      "    input_size = 28\n",
      "    fully_connected_size = 128\n",
      "    \n",
      "    pool1_size = pool_size(input_size)\n",
      "    pool2_size = pool_size(pool1_size)\n",
      "    \n",
      "    parameters_layer1 = (3 * 3 * 1 + 1) * filter_number\n",
      "    parameters_layer2 = (3 * 3 * filter_number + 1) * filter_number\n",
      "    parameters_layer3 = (pool2_size * pool2_size * filter_number + 1) * 128\n",
      "    parameters_layer4 = (128 + 1) * 10\n",
      "    \n",
      "    parameters_number = parameters_layer1 + parameters_layer2 + parameters_layer3 + parameters_layer4 \n",
      "    return parameters_number\n",
      "    \n",
      "def train(learning_rate=0.01, max_epochs=10, \n",
      "              batch_size=64, filter_number=16):\n",
      "        \"\"\" Train network on the given data. \"\"\"\n",
      "        \n",
      "        # Define placeholder for x\n",
      "        x = tf.placeholder(tf.float32, [None, 784])\n",
      "\n",
      "        # Define placeholder for y\n",
      "        y_ = tf.placeholder(tf.float32, [None, 10])\n",
      "\n",
      "        # Predict given the data\n",
      "        y_conv = predict(x, filter_number)\n",
      "\n",
      "        cross_entropy = tf.nn.softmax_cross_entropy_with_logits(labels=y_,\n",
      "                                                                logits=y_conv)\n",
      "        cross_entropy = tf.reduce_mean(cross_entropy)\n",
      "    \n",
      "        # Define loss and optimizer\n",
      "        train_step = tf.train.GradientDescentOptimizer(learning_rate).minimize(cross_entropy)\n",
      "\n",
      "        correct_prediction = tf.equal(tf.argmax(y_conv, 1), tf.argmax(y_, 1))\n",
      "        correct_prediction = tf.cast(correct_prediction, tf.float32)\n",
      "        accuracy = tf.reduce_mean(correct_prediction)\n",
      "        \n",
      "        train_acc = list()\n",
      "        val_acc = list()\n",
      "        test_acc = list()\n",
      "        \n",
      "        with tf.Session() as sess:\n",
      "            sess.run(tf.global_variables_initializer())\n",
      "            \n",
      "            for epoch in range(max_epochs):\n",
      "                for _ in range(int(mnist.train.num_examples/batch_size)):\n",
      "                    batch_xs, batch_ys = mnist.train.next_batch(batch_size)\n",
      "                    train_step.run(feed_dict={x: batch_xs, y_: batch_ys})\n",
      "                \n",
      "#                print('Epoch', epoch, 'completed out of', max_epochs)\n",
      "            \n",
      "                train_accuracy = accuracy.eval(feed_dict={\n",
      "                        x: mnist.train.images[:5000], y_: mnist.train.labels[:5000]})\n",
      "                \n",
      "                validation_accuracy = accuracy.eval(feed_dict={\n",
      "                    x: mnist.validation.images[:5000], y_: mnist.validation.labels[:5000]})\n",
      "                \n",
      "                test_accuracy = accuracy.eval(feed_dict={\n",
      "                    x: mnist.test.images[:5000], y_: mnist.test.labels[:5000]})\n",
      "                \n",
      "                train_acc.append(train_accuracy)\n",
      "                val_acc.append(validation_accuracy)\n",
      "                test_acc.append(test_accuracy)\n",
      "                \n",
      "            print('Training Completed for learning rate %s' % learning_rate)\n",
      "            return (train_acc, val_acc, test_acc)"
     ],
     "language": "python",
     "metadata": {},
     "outputs": [],
     "prompt_number": 28
    },
    {
     "cell_type": "markdown",
     "metadata": {},
     "source": [
      "# Training on MNIST\n",
      "Finally we can let our network run on the MNIST dataset!"
     ]
    },
    {
     "cell_type": "code",
     "collapsed": true,
     "input": [
      "acc = train(learning_rate=0.01, max_epochs=10)\n",
      "plt.plot(range(1,len(acc[0]) + 1), acc[0], label='Training accuracy')\n",
      "plt.plot(range(1,len(acc[1]) + 1), acc[1], label='Validation accuracy')\n",
      "plt.plot(range(1,len(acc[2]) + 1), acc[2], label='Test accuracy')\n",
      "plt.legend(bbox_to_anchor=(1.05, 1), loc=2)\n",
      "plt.show()"
     ],
     "language": "python",
     "metadata": {},
     "outputs": [
      {
       "output_type": "stream",
       "stream": "stdout",
       "text": [
        "Training Completed for learning rate 0.01\n"
       ]
      },
      {
       "metadata": {},
       "output_type": "display_data",
       "png": "[encoded data removed]",
       "text": [
        "<matplotlib.figure.Figure at 0x7fab52d3dc50>"
       ]
      }
     ],
     "prompt_number": 27
    },
    {
     "cell_type": "heading",
     "level": 1,
     "metadata": {},
     "source": [
      "Task 2: Changing the Learning Rate"
     ]
    },
    {
     "cell_type": "code",
     "collapsed": true,
     "input": [
      "learning_rates = [0.1, 0.01, 0.001, 0.0001]\n",
      "validation_accuracy = list()\n",
      "for lr in learning_rates:\n",
      "    validation_accuracy.append(train(learning_rate=lr, max_epochs=50)[1])\n",
      "\n",
      "for i, va in enumerate(validation_accuracy):\n",
      "    plt.plot(range(1,len(va) + 1), va, label='Learning rate:%s' % learning_rates[i])\n",
      "    plt.xlabel('number of epochs')\n",
      "    plt.ylabel('validation accuracy')\n",
      "plt.legend(bbox_to_anchor=(1.05, 1), loc=2)\n",
      "plt.show()\n",
      "plt.savefig('learning_rate.png')"
     ],
     "language": "python",
     "metadata": {},
     "outputs": []
    },
    {
     "cell_type": "markdown",
     "metadata": {},
     "source": [
      "#Task 3: Run Time"
     ]
    },
    {
     "cell_type": "code",
     "collapsed": false,
     "input": [
      "filters = [8, 16, 32, 64, 128, 256]\n",
      "times = list()\n",
      "parameters_count = list()\n",
      "for filter_number in filters:\n",
      "    t0 = time.time()\n",
      "    parameters_count.append(parameter_number(filter_number))\n",
      "    train(filter = filter_number)\n",
      "    t1 = time.time()\n",
      "    times.append(t0, t1)"
     ],
     "language": "python",
     "metadata": {},
     "outputs": []
    },
    {
     "cell_type": "markdown",
     "metadata": {},
     "source": [
      "Plotting parameters vs runtime"
     ]
    },
    {
     "cell_type": "code",
     "collapsed": false,
     "input": [
      "plt.plot(parameters_count, times)\n",
      "plt.xlabel('number of parameters')\n",
      "plt.ylabel('runtime')\n",
      "plt.show()"
     ],
     "language": "python",
     "metadata": {},
     "outputs": []
    }
   ],
   "metadata": {}
  }
 ]
}